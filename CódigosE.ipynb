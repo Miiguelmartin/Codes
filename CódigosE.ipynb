{
  "nbformat": 4,
  "nbformat_minor": 0,
  "metadata": {
    "colab": {
      "name": "Untitled1.ipynb",
      "provenance": [],
      "include_colab_link": true
    },
    "kernelspec": {
      "name": "python3",
      "display_name": "Python 3"
    },
    "language_info": {
      "name": "python"
    }
  },
  "cells": [
    {
      "cell_type": "markdown",
      "metadata": {
        "id": "view-in-github",
        "colab_type": "text"
      },
      "source": [
        "<a href=\"https://colab.research.google.com/github/Miiguelmartin/Codes/blob/main/C%C3%B3digosE.ipynb\" target=\"_parent\"><img src=\"https://colab.research.google.com/assets/colab-badge.svg\" alt=\"Open In Colab\"/></a>"
      ]
    },
    {
      "cell_type": "markdown",
      "source": [
        "#Bonos\n",
        "VNA meterle el negativo y no cogemos el primer desembolso  \n",
        "\n",
        "La ETTI con sumaproductos de la columna por el factor de descuento.  \n",
        "\n",
        "Factor descuento = (1+ETTI)^-t  \n",
        "\n",
        "Para la ETTI con solver, igualamos las diferencias a 0, y el cambio se hace en las ETTIs.  \n",
        "\n",
        "Para los porcentajes de cartera con Solver, metemos la fórmula, y para crear un bono sintético sacamos las proporciones haciendo el sumaproducto de las proporciones por cada fila.  \n",
        "\n",
        "Cuando tenemos que sacar la ETTI con formula larga:  \n",
        "\n",
        "Primer año, (Dinero/-Desembolso)-1  \n",
        "Siguientes: Dinero /- Desembolso - sumaproducto de flujos y factores de descuento ^ (1/t)-1  \n",
        "\n",
        "\n",
        "\n"
      ],
      "metadata": {
        "id": "8vkLhs9Cq5mr"
      }
    },
    {
      "cell_type": "markdown",
      "source": [
        "# ETTI invertida\n",
        "El primero igual que el i del forward  \n",
        "\n",
        "Los demás, producto de (1+i del forward) de los años que sean ^ (1/t)-1\n"
      ],
      "metadata": {
        "id": "15Rn6KKHtHZ1"
      }
    },
    {
      "cell_type": "markdown",
      "source": [
        "#Excel para Python\n",
        "Cuando creamos un bono C de dos bonos, en el primer flujo, (FlujoA*FlujoB)-(FlujoB*FlujoA) y arrastro, fijamos el primero y el tercero de los 4 datos.  \n",
        "\n",
        "Cuando hay reinversión: Metemos una tercera columna aparte de nuestro bono explicito y cupon 0, llamada VF. En la que debajo de la TIR metemos el montante. La TIR se calcula con TASA, metiendo los (años;precio;montante).  \n",
        "\n",
        "Para los bonos cupón 0, el dinero que recibimos al final se saca: -precio*(1+TIR)^t  \n",
        "\n",
        "En las comparaciones de un bono aleatorio y un bono cierto,  rompes la probabilidades del bono aleatorio y para la que falta se usa: (Dinero del cierto-dinero del aleatorio que sabemos*prob del que sabemos)/Prob del que no sabemos. Despues unimos las dos probabilidades del aleatorio con un sumaproducto de los porcentajes por la fila del año.  \n",
        "\n",
        "Forward conocidos dos bonos, se saca el bono sintetico C normal, al final metemos otra columna con el forward sacando un nuevo sintético entre A y C, donde el desembolso es una resta también no el sumaproducto.\n"
      ],
      "metadata": {
        "id": "Y7KhJzBgq4zG"
      }
    },
    {
      "cell_type": "markdown",
      "source": [
        "# Arbitraje con bonos\n",
        "Sacamos los datos normal para los dos bonos, una vez acabado hacemos una nueva tabla siguiendo la estrategia.  \n",
        "\n",
        "Poniendo los dos al tir que te mande sacamos el precio con -VNA. Para sacar C la nueva cartera, Precio B- Nºveces el precio de A. Metemos dos columnas mas, préstamo y total.  \n",
        "\n",
        "En préstamo en el desembolso -Dinero de C/(1+Ultima ETTI)^t   \n",
        "\n",
        "En préstamo en dinero = -Dinero de C\n",
        "Hacemos una última columna, desembolso de c + desembolso de préstamo, uno + y uno -."
      ],
      "metadata": {
        "id": "On4Vl4seQiOW"
      }
    },
    {
      "cell_type": "markdown",
      "source": [
        "# Random walk\n",
        "1 dimensión: Instante 0 y numero de partida  \n",
        "\n",
        "Fórmula:  \n",
        "\n",
        "SI(Aleatorio()\\< Condicionante que ponga;Paso anterior*(1+Variación); Paso anterior/(1+Variación))  \n",
        "\n",
        "2 dimensiones  \n",
        "\n",
        "Numero de pasos  \n",
        "\n",
        "Primera fila todo en 0  \n",
        "\n",
        "Instante  \n",
        "\n",
        "Angulo = Aleatorio()*2*PI()  \n",
        "\n",
        "X = Paso anterior + Numero de pasos*cos de su angulo  \n",
        "\n",
        "Y = Paso anterior + Numero de pasos*sen de su angulo  \n",
        "\n",
        "Distancia al origen = Raiz( X^2 + Y^2)  \n",
        "\n",
        "Paso = Raiz((X- X anterior)^2+(Y- Y anterior)^2"
      ],
      "metadata": {
        "id": "k_JGGybyTgOa"
      }
    },
    {
      "cell_type": "markdown",
      "source": [
        "# Tanto instantáneo\n",
        "Caso 1: nos dan el tipo de interés y para calcular el tanto instantáneo o ro (ρ)  \n",
        "ρ = ln(1 + i)  \n",
        "\n",
        "\n",
        "Caso 2: partimos de $j_m$ (tanto nominal) y $m$ (fraccionamiento de la operación financiera, es decir, número de veces que el subperiodo está contenido en el periodo) infinito, se obtiene el $i$ (tipo de interés) equivalente a ese ro (ρ)  \n",
        "\n",
        "$i = EXP(i)-1$  \n",
        "\n",
        "Montante: $(1+i_m)^m$  \n",
        "\n",
        "\n",
        "Caso 3: si el tanto nominal $j_m$ es 100%, el montante = núemero $e = 7,7182818$  \n",
        "\n",
        "$$\n",
        "e = lim_{x → ∞} \\left( a + \\frac{1}{x} \\right)^x\n",
        "$$\n",
        "\n",
        "En la otra columna: $(1+1/x)^x$  \n"
      ],
      "metadata": {
        "id": "Fuw6UCEwS03U"
      }
    },
    {
      "cell_type": "markdown",
      "source": [
        "#Arbitraje de futuros\n",
        "\n",
        "S, F, r, n, 1 contrato  \n",
        "\n",
        "Futuro teórico = S*(1+r)^n  \n",
        "\n",
        "St = Hipotesis aleatoria  \n",
        "\n",
        "T=0 y T=n  \n",
        "\n",
        "Comprar futuro en t=0 = 0  \n",
        "Y en T=n SI(F=Futuro Teorico;0;SI(F \\< F.TEO;ST-F;F-ST))  \n",
        "\n",
        "vender futuro, en T=0 SI(F=F.TEO;0;SI(F\\< F.TEO;S;-S))  \n",
        "Y en T=n SI(F=F.TEO;0;SI(F \\< F.TEO;ST;-ST))  \n",
        "\n",
        "Comprar bono en T=0  -comprar bono en t=n/(1+r)^n  \n",
        "Y t=n SI(F=F.TEO;0;SI(F \\< F.TEO;F;-F)) \n",
        "\n",
        "total: Suma columnas  \n",
        "\n",
        "Total por numero de acciones  "
      ],
      "metadata": {
        "id": "1VquNJDtpniV"
      }
    },
    {
      "cell_type": "markdown",
      "source": [
        "#Convergencia base \n",
        "Var, i, meses  \n",
        "\n",
        "Tabla con  \n",
        "\n",
        "Mes  \n",
        "\n",
        "Spot = Si no te lo da pon 100 la primera, después INV.NORM(ALEATORIO();Spot anterior;Spot anterior*Var)  \n",
        "\n",
        "Futuro teorico hay dos opciones :  \n",
        "\n",
        "\\* Convergencia base = Spot(1+i)^((n-t)/n)\\*  \n",
        "\n",
        "\\* Base negativa = INV.NORM(ALEATORIO();Spot \\*(1+i)^((n-t)/n);Var* Spot*(1+i)^ ((n-t)/n)) \\*  \n",
        "\n",
        "Base = Futuro teorico - Spot"
      ],
      "metadata": {
        "id": "PdGc8p45rAjA"
      }
    }
  ]
}